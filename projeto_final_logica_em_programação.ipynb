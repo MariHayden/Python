{
  "nbformat": 4,
  "nbformat_minor": 0,
  "metadata": {
    "colab": {
      "name": "projeto final_logica em programação",
      "provenance": [],
      "authorship_tag": "ABX9TyPTyJvEJoXXA4eN5U3l48G1",
      "include_colab_link": true
    },
    "kernelspec": {
      "name": "python3",
      "display_name": "Python 3"
    },
    "language_info": {
      "name": "python"
    }
  },
  "cells": [
    {
      "cell_type": "markdown",
      "metadata": {
        "id": "view-in-github",
        "colab_type": "text"
      },
      "source": [
        "<a href=\"https://colab.research.google.com/github/MariHayden/Python/blob/main/projeto_final_logica_em_programa%C3%A7%C3%A3o.ipynb\" target=\"_parent\"><img src=\"https://colab.research.google.com/assets/colab-badge.svg\" alt=\"Open In Colab\"/></a>"
      ]
    },
    {
      "cell_type": "markdown",
      "source": [
        "Objetivo:\n",
        "Projetar e implementar uma interface que receba informações sobre os interesses de um estudante e recomende-lhe os cursos do CollabPlay que sejam mais adequados ao seu perfil."
      ],
      "metadata": {
        "id": "MzgPEm93qbfK"
      }
    },
    {
      "cell_type": "code",
      "source": [
        "# PROJETO FINAL \n",
        "\n",
        "nome = input(\"como gostaria de ser chamada : \")\n",
        "categorias = ['Worpress',\n",
        "              'Criação de site',\n",
        "              'E-commerce',\n",
        "              'Marketing Digital',\n",
        "              'Vendas',\n",
        "              'Google Ads',\n",
        "              'Design',\n",
        "              'Negócios',\n",
        "              'Youtube',\n",
        "              'Criação de Conteúdo',\n",
        "              'Programação'\n",
        "              ]\n",
        "\n",
        "for i in range(len(categorias)):\n",
        "  print(f\"{i}. {categorias[i]}\") # equivalente a usar enumerate \n",
        "\n",
        "num_das_categorias = input('Digite o número dos assuntos de seu interesse (use vírgulas):')\n",
        "\n",
        "# TODO: RESOLVER PROBLEMA num_das_categorias = \"10,8\"\n",
        "\n",
        "tempo = float(input('quanto tempo gostari de estudar ? (min) \\n')) # convertido de palavra pra numero \n",
        "\n",
        "mostrar_premium = input('mostrar cursos premium (S/N) ? ')\n"
      ],
      "metadata": {
        "id": "utrzsE5Q7coJ",
        "colab": {
          "base_uri": "https://localhost:8080/"
        },
        "outputId": "33bfd8a9-e988-4b2c-b188-43c50736a938"
      },
      "execution_count": null,
      "outputs": [
        {
          "name": "stdout",
          "output_type": "stream",
          "text": [
            "como gostaria de ser chamada : mari\n",
            "0. Worpress\n",
            "1. Criação de site\n",
            "2. E-commerce\n",
            "3. Marketing Digital\n",
            "4. Vendas\n",
            "5. Google Ads\n",
            "6. Design\n",
            "7. Negócios\n",
            "8. Youtube\n",
            "9. Criação de Conteúdo\n",
            "10. Programação\n",
            "Digite o número dos assuntos de seu interesse (use vírgulas):2,8,10\n",
            "quanto tempo gostari de estudar ? (min) \n",
            "400\n",
            "mostrar cursos premium (S/N) ? S\n"
          ]
        }
      ]
    },
    {
      "cell_type": "code",
      "source": [
        "# Resolver problemas cm tipo de dados \n",
        "print(type(nome))\n",
        "print(type(num_das_categorias))\n",
        "print(type(tempo))\n",
        "print(type(mostrar_premium))\n",
        "\n",
        "#mostrar_premium\n",
        "if mostrar_premium == \"N\" or mostrar_premium =='n':\n",
        "  mostrar_premium =False\n",
        "elif mostrar_premium == \"S\" or mostrar_premium == \"s\" :\n",
        "  mostrar_premium = True\n",
        "#num_das_categorias\n",
        "num_das_categorias = num_das_categorias.split(\",\")  # separar em uma lista os valores de uma strng, por padrão, nos espaços,porem pedimos para ela quebrar nas virgulas.\n",
        "ncategorias = []\n",
        "for elemento in num_das_categorias:\n",
        "  numero = int(elemento.strip())\n",
        "  ncategorias.append(numero)\n",
        "\n",
        "\n",
        "print(ncategorias)\n"
      ],
      "metadata": {
        "colab": {
          "base_uri": "https://localhost:8080/"
        },
        "id": "AAG_AeGGnChw",
        "outputId": "9566cc6e-7b72-479c-d38c-4800dbbdd5f9"
      },
      "execution_count": null,
      "outputs": [
        {
          "output_type": "stream",
          "name": "stdout",
          "text": [
            "<class 'str'>\n",
            "<class 'str'>\n",
            "<class 'float'>\n",
            "<class 'str'>\n",
            "[2, 8, 10]\n"
          ]
        }
      ]
    },
    {
      "cell_type": "code",
      "source": [
        "print(f'nome:{nome}')\n",
        "print(f\"id das categorias:{ncategorias}\")\n",
        "print(f\"tempo: {tempo}\")\n",
        "print(f\"mostrar premium?: {mostrar_premium}\")"
      ],
      "metadata": {
        "colab": {
          "base_uri": "https://localhost:8080/"
        },
        "id": "k80nSct_pJ4K",
        "outputId": "a16ff2f0-fdeb-4059-9a5f-330c95bd172c"
      },
      "execution_count": null,
      "outputs": [
        {
          "output_type": "stream",
          "name": "stdout",
          "text": [
            "nome:mari\n",
            "id das categorias:[2, 8, 10]\n",
            "tempo: 400.0\n",
            "mostrar premium?: True\n"
          ]
        }
      ]
    },
    {
      "cell_type": "code",
      "source": [
        "# ultima etapa projeto final,analisando o perfil de interesse :\n",
        "\n",
        "# Colunas da tabela na forma de listas\n",
        "cursos = [\"Introdução ao Wordpress\",\n",
        "          \"Criador de Sites\",\n",
        "          \"Introdução ao WooCommerce\",\n",
        "          \"Afiliado de Sucesso\",\n",
        "          \"Venda mais com WhatsApp Business e Google Meu Negócio\",\n",
        "          \"Introdução ao Google Ads\",\n",
        "          \"E-commerce e Vendas Online\",\n",
        "          \"Canva: Design Fácil para Empreendedores\",\n",
        "          \"Youtube para Iniciantes: como criar e crescer o seu canal\",\n",
        "          \"Rede de Display e Youtube\",\n",
        "          \"Desenvolvimento de Plugins para WordPress\"\n",
        "          ]\n",
        "\n",
        "tempos = [95,\n",
        "          25,\n",
        "          35,\n",
        "          85,\n",
        "          75,\n",
        "          150,\n",
        "          140,\n",
        "          120,\n",
        "          85,\n",
        "          335,\n",
        "          160]\n",
        "categorias_do_curso = [\n",
        "  ['wordpress', 'criação de sites'],\n",
        "  ['criação de sites'],\n",
        "  ['e-commerce', 'criação de sites', 'wordpress'],\n",
        "  ['marketing digital', 'vendas'],\n",
        "  ['marketing digital', 'vendas', 'google ads', 'negócios'],\n",
        "  ['marketing digital', 'google ads'],\n",
        "  ['e-commerce', 'vendas', 'negócios'],\n",
        "  ['design', 'negócios'],\n",
        "  ['youtube', 'criação de conteúdo'],\n",
        "  ['marketing digital', 'google ads', 'youtube'],\n",
        "  ['programação', 'wordpress']\n",
        "]\n",
        "\n",
        "gratuidade = [True,\n",
        "              True,\n",
        "              True,\n",
        "              True,\n",
        "              True,\n",
        "              True,\n",
        "              True,\n",
        "              True,\n",
        "              True,\n",
        "              False,\n",
        "              True,]"
      ],
      "metadata": {
        "id": "XPxy5XX6nZ25"
      },
      "execution_count": null,
      "outputs": []
    },
    {
      "cell_type": "code",
      "source": [
        "# categorias selecionadas \n",
        "categorias_selecionadas = []\n",
        "for n in ncategorias:\n",
        "  categorias_selecionadas.append(categorias[n].upper()) # upper = colocar tudo em maiusculo\n",
        "print(categorias_selecionadas)"
      ],
      "metadata": {
        "colab": {
          "base_uri": "https://localhost:8080/"
        },
        "id": "5NenV2mHyJvM",
        "outputId": "3bd86c65-de4f-4934-aa73-c9495c53bb21"
      },
      "execution_count": null,
      "outputs": [
        {
          "output_type": "stream",
          "name": "stdout",
          "text": [
            "['E-COMMERCE', 'YOUTUBE', 'PROGRAMAÇÃO']\n"
          ]
        }
      ]
    },
    {
      "cell_type": "code",
      "source": [
        "#formatar a resposta \n",
        "print(f\"ola, {nome}, com base no seu perfil, achamos que voce iria gostar dos seguintes cursos:\")\n",
        "# mostara os nome das categorias \n",
        "for cat in categorias_selecionadas: \n",
        "  print(f\"{cat}:\")\n",
        "  for linha in range(len(cursos)):     # verificar se a categoria selecionada esta dentro da categoria do curso \n",
        "      if gratuidade[linha] or mostrar_premium :\n",
        "              if(cat.lower() in categorias_do_curso[linha] and tempos[linha] <= tempo ): #lower, colocar tudo em minusculo.\n",
        "                print(f\"-{cursos [linha]} ({tempos [linha]} min)\")\n"
      ],
      "metadata": {
        "colab": {
          "base_uri": "https://localhost:8080/"
        },
        "id": "9GSOo4Ky0JnT",
        "outputId": "fa46cc3b-39b5-4f74-d9d9-767fa2acb53e"
      },
      "execution_count": null,
      "outputs": [
        {
          "output_type": "stream",
          "name": "stdout",
          "text": [
            "ola, mari, com base no seu perfil, achamos que voce iria gostar dos seguintes cursos:\n",
            "E-COMMERCE:\n",
            "-Introdução ao WooCommerce (35 min)\n",
            "-E-commerce e Vendas Online (140 min)\n",
            "YOUTUBE:\n",
            "-Youtube para Iniciantes: como criar e crescer o seu canal (85 min)\n",
            "-Rede de Display e Youtube (335 min)\n",
            "PROGRAMAÇÃO:\n",
            "-Desenvolvimento de Plugins para WordPress (160 min)\n"
          ]
        }
      ]
    },
    {
      "cell_type": "code",
      "source": [
        "# mostara os nome das categorias \n",
        "for cat in categorias_selecionadas: \n",
        "  print(f\"{cat}:\")\n",
        "  for linha in range(len(cursos)):     # verificar se a categoria selecionada esta dentro da categoria do curso \n",
        "      if gratuidade[linha] or mostrar_premium :\n",
        "              if(cat.lower() in categorias_do_curso[linha] and tempos[linha] <= tempo ): #lower, colocar tudo em minusculo.\n",
        "                print(f\"-{cursos [linha]} ({tempos [linha]} min)\")\n"
      ],
      "metadata": {
        "colab": {
          "base_uri": "https://localhost:8080/"
        },
        "id": "jtTsPeBW06q-",
        "outputId": "dab91f83-7fcb-4726-ef2e-0a6deef5fab5"
      },
      "execution_count": null,
      "outputs": [
        {
          "output_type": "stream",
          "name": "stdout",
          "text": [
            "E-COMMERCE:\n",
            "-Introdução ao WooCommerce (35 min)\n",
            "-E-commerce e Vendas Online (140 min)\n",
            "YOUTUBE:\n",
            "-Youtube para Iniciantes: como criar e crescer o seu canal (85 min)\n",
            "-Rede de Display e Youtube (335 min)\n",
            "PROGRAMAÇÃO:\n",
            "-Desenvolvimento de Plugins para WordPress (160 min)\n"
          ]
        }
      ]
    },
    {
      "cell_type": "code",
      "source": [
        ""
      ],
      "metadata": {
        "id": "p3uAdy7g5w1Z"
      },
      "execution_count": null,
      "outputs": []
    }
  ]
}